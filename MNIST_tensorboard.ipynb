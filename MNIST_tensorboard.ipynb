{
 "cells": [
  {
   "cell_type": "code",
   "execution_count": 4,
   "metadata": {},
   "outputs": [
    {
     "name": "stdout",
     "output_type": "stream",
     "text": [
      "Extracting data/train-images-idx3-ubyte.gz\n",
      "Extracting data/train-labels-idx1-ubyte.gz\n",
      "Extracting data/t10k-images-idx3-ubyte.gz\n",
      "Extracting data/t10k-labels-idx1-ubyte.gz\n",
      "Wall time: 598 ms\n"
     ]
    }
   ],
   "source": [
    "import tensorflow as tf\n",
    "from tensorflow.examples.tutorials.mnist import input_data\n",
    "import numpy as np\n",
    "tf.reset_default_graph()\n",
    "\n",
    "%time mnist = input_data.read_data_sets(\"data/\", one_hot=True)  # %time을 통해 전체 실행 시간을 남길 수 있습니다.\n",
    "#mnist = input_data.read_data_sets(\"MNIST_data/\", one_hot=True)"
   ]
  },
  {
   "cell_type": "code",
   "execution_count": 5,
   "metadata": {},
   "outputs": [],
   "source": [
    "def reset_all(seed=0):\n",
    "    # 왜 할까요? 생각해봅시다.\n",
    "    tf.reset_default_graph() # graph 초기화\n",
    "    tf.set_random_seed(seed) # tf.random_seed 초기화\n",
    "    np.random.seed(seed) # np.random_seed 초기화"
   ]
  },
  {
   "cell_type": "code",
   "execution_count": 6,
   "metadata": {},
   "outputs": [],
   "source": [
    "reset_all()"
   ]
  },
  {
   "cell_type": "code",
   "execution_count": 7,
   "metadata": {},
   "outputs": [],
   "source": [
    "\"\"\" placeholder 정의 : 데이터가 들어 갈 곳\n",
    "이미지와 정답 레이블용 2차원 tensor를 만든다.\n",
    "None은 어떤 length도 가능함을 의미한다. \"\"\"\n",
    "# 이미지 데이터용 placeholder\n",
    "with tf.name_scope(\"input\") as scope:\n",
    "    x = tf.placeholder(tf.float32, [None, 784])\n",
    "    #print(x.shape) #(?, 784)\n",
    "# 정답 레이블용 placeholder\n",
    "with tf.name_scope(\"y_\") as scope:\n",
    "    y_ = tf.placeholder(tf.float32, [None, 10])\n",
    "    #print(y_.shape) #(?, 10)\n",
    "\n",
    "\"\"\" Variable 정의 : 학습 결과가 저장될 가중치(weight)와 바이어스(bias) \"\"\"\n",
    "# 0으로 초기화 함\n",
    "with tf.name_scope(\"weight\") as scope:\n",
    "    W = tf.Variable(tf.zeros([784, 10]))\n",
    "    #print(W.shape) #(784, 10)\n",
    "with tf.name_scope(\"bias\") as scope:\n",
    "    b = tf.Variable(tf.zeros([10]))\n",
    "    #print(b.shape) #(10,)\n",
    "\n",
    "\"\"\" 모델 정의 : Softmax Regression\n",
    "10개의 값 중 가장 확률이 높은 것을 고르기 위해 Softmax 사용 \"\"\"\n",
    "# 모델 생성\n",
    "with tf.name_scope(\"layer1\") as scope:\n",
    "    y = tf.nn.softmax(tf.matmul(x, W) + b)\n",
    "    #print(y.shape) #(?, 10)\n",
    "\n",
    "w_hist = tf.summary.histogram(\"weight\", W)\n",
    "b_hist = tf.summary.histogram(\"bias\", b)\n",
    "y_hist = tf.summary.histogram(\"y\", y)"
   ]
  },
  {
   "cell_type": "code",
   "execution_count": 8,
   "metadata": {},
   "outputs": [],
   "source": [
    "\"\"\" 모델 훈련 \"\"\"\n",
    "# Loss 함수 정의\n",
    "with tf.name_scope(\"cost\") as scope:\n",
    "    cross_entropy = tf.reduce_mean(-tf.reduce_sum(y_ * tf.log(y), reduction_indices=[1]))\n",
    "    #tf.summary.scalar(\"cost\",cross_entropy)\n",
    "    cost_sum = tf.summary.scalar(\"cost\",cross_entropy)\n",
    "# learning rate을 0.5로 정의\n",
    "with tf.name_scope(\"train\") as scope:\n",
    "    train_step = tf.train.GradientDescentOptimizer(0.5).minimize(cross_entropy)\n",
    "\n",
    "# Merge all summaries into a single op\n",
    "merged = tf.summary.merge_all()\n",
    "\n",
    "# 세션 시작전에 모든 변수 초기화함\n",
    "init = tf.global_variables_initializer()\n",
    "\n",
    "sess = tf.Session()\n",
    "sess.run(init)\n",
    "\n",
    "# 기본으로 제공되는 텐서보드 로그 dir : /home/ncp/workspace/tensorboard\n",
    "writer =tf.summary.FileWriter(\"./tensorboard\", sess.graph)\n",
    "\n",
    "# Training : 100개 단위로 샘플링하여 1000회 학습 진행\n",
    "for i in range(1000):\n",
    "    batch_xs, batch_ys = mnist.train.next_batch(100)  # 학습 데이터셋에서 무작위로 샘플링한 100개의 데이터로 구성된 'batch'를 가져옴\n",
    "    #print(batch_xs.shape) #(100, 784)\n",
    "    #print(batch_ys.shape) #(100, 10)\n",
    "    summary, _ = sess.run([merged, train_step], feed_dict={x: batch_xs, y_: batch_ys})  # placeholder x, y_에 샘플링된 batch_xs, batch_ys를 공급함\n",
    "    # write summary events to disk\n",
    "    writer.add_summary(summary,i)"
   ]
  },
  {
   "cell_type": "code",
   "execution_count": 9,
   "metadata": {},
   "outputs": [
    {
     "name": "stdout",
     "output_type": "stream",
     "text": [
      "0.9178\n"
     ]
    }
   ],
   "source": [
    "\"\"\" 모델 평가 \"\"\"\n",
    "correct_prediction = tf.equal(tf.argmax(y,1), tf.argmax(y_,1))\n",
    "accuracy = tf.reduce_mean(tf.cast(correct_prediction, tf.float32))\n",
    "\n",
    "# 정확도\n",
    "print (sess.run(accuracy, feed_dict={x: mnist.test.images, y_: mnist.test.labels}))\n",
    "\n",
    "# 실행을 모두 마치면 Session을 닫음\n",
    "writer.close()\n",
    "sess.close()"
   ]
  },
  {
   "cell_type": "code",
   "execution_count": null,
   "metadata": {},
   "outputs": [],
   "source": []
  }
 ],
 "metadata": {
  "kernelspec": {
   "display_name": "Python 3",
   "language": "python",
   "name": "python3"
  },
  "language_info": {
   "codemirror_mode": {
    "name": "ipython",
    "version": 3
   },
   "file_extension": ".py",
   "mimetype": "text/x-python",
   "name": "python",
   "nbconvert_exporter": "python",
   "pygments_lexer": "ipython3",
   "version": "3.7.3"
  }
 },
 "nbformat": 4,
 "nbformat_minor": 2
}
