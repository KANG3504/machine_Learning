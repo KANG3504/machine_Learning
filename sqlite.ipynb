{
 "cells": [
  {
   "cell_type": "markdown",
   "metadata": {},
   "source": [
    "## 데이터베이스\n",
    "* sqlite\n",
    "* https://sqlitebrowser.org/"
   ]
  },
  {
   "cell_type": "code",
   "execution_count": 5,
   "metadata": {},
   "outputs": [
    {
     "ename": "OperationalError",
     "evalue": "table movie already exists",
     "output_type": "error",
     "traceback": [
      "\u001b[1;31m---------------------------------------------------------------------------\u001b[0m",
      "\u001b[1;31mOperationalError\u001b[0m                          Traceback (most recent call last)",
      "\u001b[1;32m<ipython-input-5-fdcf2cfc0468>\u001b[0m in \u001b[0;36m<module>\u001b[1;34m\u001b[0m\n\u001b[0;32m      5\u001b[0m     \u001b[0msql\u001b[0m \u001b[1;33m=\u001b[0m \u001b[1;34m\"create table movie (IDX integer PRIMARY KEY AUTOINCREMENT,title varchar(30),content varchar(100),point INTEGER ) \"\u001b[0m\u001b[1;33m\u001b[0m\u001b[1;33m\u001b[0m\u001b[0m\n\u001b[0;32m      6\u001b[0m \u001b[1;33m\u001b[0m\u001b[0m\n\u001b[1;32m----> 7\u001b[1;33m     \u001b[0mcur\u001b[0m\u001b[1;33m.\u001b[0m\u001b[0mexecute\u001b[0m\u001b[1;33m(\u001b[0m\u001b[0msql\u001b[0m\u001b[1;33m)\u001b[0m\u001b[1;33m\u001b[0m\u001b[1;33m\u001b[0m\u001b[0m\n\u001b[0m\u001b[0;32m      8\u001b[0m     \u001b[0mconn\u001b[0m\u001b[1;33m.\u001b[0m\u001b[0mcommit\u001b[0m\u001b[1;33m(\u001b[0m\u001b[1;33m)\u001b[0m\u001b[1;33m\u001b[0m\u001b[1;33m\u001b[0m\u001b[0m\n\u001b[0;32m      9\u001b[0m     \u001b[0mcur\u001b[0m\u001b[1;33m.\u001b[0m\u001b[0mclose\u001b[0m\u001b[1;33m(\u001b[0m\u001b[1;33m)\u001b[0m\u001b[1;33m\u001b[0m\u001b[1;33m\u001b[0m\u001b[0m\n",
      "\u001b[1;31mOperationalError\u001b[0m: table movie already exists"
     ]
    }
   ],
   "source": [
    "import sqlite3\n",
    "\n",
    "with sqlite3.connect(\"nmovie.db\") as conn:\n",
    "    cur = conn.cursor()\n",
    "    sql = \"create table movie (IDX integer PRIMARY KEY AUTOINCREMENT,title varchar(30),content varchar(100),point INTEGER ) \"\n",
    " \n",
    "    cur.execute(sql)\n",
    "    conn.commit()\n",
    "    cur.close()"
   ]
  },
  {
   "cell_type": "code",
   "execution_count": null,
   "metadata": {},
   "outputs": [],
   "source": [
    "\n",
    "\n",
    "with sqlite3.connect(\"movie.db\") as conn:\n",
    "    cur = conn.cursor()\n",
    "    sql = \"insert into movie (title,content,point) values (?,?,?)\"\n",
    " \n",
    "    # 1건씩 추가하기\n",
    "    cur.execute(sql, ['스파이더',  '좋았어',5])\n",
    "    cur.execute(sql, ['아이언',  '굿이야',3])\n",
    " \n",
    "    # 리스트를 이용하여 자료 추가하기\n",
    "    infoList = [('마블',  '좋았어',5), ('test',  '굿이야',3)]\n",
    "    cur.executemany(sql,infoList)\n",
    "    conn.commit()\n",
    "    cur.close()"
   ]
  },
  {
   "cell_type": "code",
   "execution_count": null,
   "metadata": {},
   "outputs": [],
   "source": [
    "with sqlite3.connect(\"movie.db\") as conn:\n",
    "    conn.row_factory = sqlite3.Row\n",
    "    cur = conn.cursor()\n",
    "    sql = \"select * from movie\"\n",
    " \n",
    "    datas = cur.execute(sql)\n",
    " \n",
    "    for x in datas:\n",
    "        print(x['title'], x['content'])\n",
    " \n",
    "    cur.close()"
   ]
  },
  {
   "cell_type": "code",
   "execution_count": null,
   "metadata": {},
   "outputs": [],
   "source": [
    "import sqlite3\n",
    " \n",
    "# SQLite DB 연결\n",
    "conn = sqlite3.connect(\"movie.db\")\n",
    " \n",
    "# Connection 으로부터 Cursor 생성\n",
    "cur = conn.cursor()\n",
    " \n",
    "# SQL 쿼리 실행\n",
    "cur.execute(\"select * from customer\")\n",
    " \n",
    "# 데이타 Fetch\n",
    "rows = cur.fetchall()\n",
    "for row in rows:\n",
    "    print(row)\n",
    " \n",
    "# Connection 닫기\n",
    "conn.close()"
   ]
  }
 ],
 "metadata": {
  "kernelspec": {
   "display_name": "Python 3",
   "language": "python",
   "name": "python3"
  },
  "language_info": {
   "codemirror_mode": {
    "name": "ipython",
    "version": 3
   },
   "file_extension": ".py",
   "mimetype": "text/x-python",
   "name": "python",
   "nbconvert_exporter": "python",
   "pygments_lexer": "ipython3",
   "version": "3.7.3"
  }
 },
 "nbformat": 4,
 "nbformat_minor": 2
}
