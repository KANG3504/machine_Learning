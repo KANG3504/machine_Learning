{
 "cells": [
  {
   "cell_type": "markdown",
   "metadata": {},
   "source": [
    "### 웹크롤링\n",
    "* requests :웹페이지를 가져오기\n",
    "* BeautifulSoup :html 파싱하여 정보 추출\n",
    "* infostock 으로부터 코스피 코스닥 지수 확인\n",
    "* 각종 정보 획득"
   ]
  },
  {
   "cell_type": "code",
   "execution_count": 1,
   "metadata": {},
   "outputs": [],
   "source": [
    "import requests\n",
    "from bs4 import BeautifulSoup"
   ]
  },
  {
   "cell_type": "markdown",
   "metadata": {},
   "source": [
    "* requests.get를 이용하여 웹페이지 크롤링\n",
    "* requests결과.content로 정보 획득"
   ]
  },
  {
   "cell_type": "code",
   "execution_count": 2,
   "metadata": {},
   "outputs": [],
   "source": [
    "addr='http://www.infostock.co.kr/'\n",
    "result=requests.get(addr)\n",
    "src=result.content\n",
    "#print(result.content)\n"
   ]
  },
  {
   "cell_type": "markdown",
   "metadata": {},
   "source": [
    "* 획득된 정보로 파서(BeautifulSoup) 객체 생성"
   ]
  },
  {
   "cell_type": "code",
   "execution_count": 3,
   "metadata": {},
   "outputs": [],
   "source": [
    "soup=BeautifulSoup(src,'html.parser')"
   ]
  },
  {
   "cell_type": "markdown",
   "metadata": {},
   "source": [
    "* 파싱된 정보객체로 부터 목표 태그 찾기\n",
    "* 찾아진 태그로부터 string 추출"
   ]
  },
  {
   "cell_type": "markdown",
   "metadata": {},
   "source": [
    "### 태그 선택자\n",
    "* find(태그명,속성)을 사용하여 해당 태그 선택\n"
   ]
  },
  {
   "cell_type": "code",
   "execution_count": 4,
   "metadata": {},
   "outputs": [
    {
     "name": "stdout",
     "output_type": "stream",
     "text": [
      "<title>인포스탁</title>\n",
      "인포스탁\n",
      "인포스탁\n"
     ]
    }
   ],
   "source": [
    "title=soup.find('title')\n",
    "print(title)\n",
    "print(title.get_text())\n",
    "print(title.string)\n"
   ]
  },
  {
   "cell_type": "markdown",
   "metadata": {},
   "source": [
    "### 태그셀렉터\n",
    "* find_all(태그,속성) 모든 해당 태그 선택\n"
   ]
  },
  {
   "cell_type": "code",
   "execution_count": 6,
   "metadata": {},
   "outputs": [],
   "source": [
    "#a_1=soup.find(id='article_1').find_all('div',{'class':'chart1'})\n",
    "a_1=soup.find(id='article_1').find_all('span',{'style':'color:blue'})\n",
    "#print(a_1)\n",
    "#print(a_1[0].string)\n",
    "#print(\"*\"*30)\n",
    "#print(a_1[0].get_text())\n",
    "#print(a_1[1].string)\n",
    "#print(\"*\"*30)\n",
    "#print(a_1[1].get_text())"
   ]
  },
  {
   "cell_type": "markdown",
   "metadata": {},
   "source": [
    "### CSS 셀렉터\n",
    "* select('태그') 태그 셀렉트"
   ]
  },
  {
   "cell_type": "code",
   "execution_count": 10,
   "metadata": {},
   "outputs": [
    {
     "name": "stdout",
     "output_type": "stream",
     "text": [
      "인포스탁\n"
     ]
    }
   ],
   "source": [
    "t=soup.select('title')\n",
    "print(t[0].get_text())"
   ]
  },
  {
   "cell_type": "markdown",
   "metadata": {},
   "source": [
    "### id 셀렉트 \n",
    "* select('#아이디')"
   ]
  },
  {
   "cell_type": "code",
   "execution_count": 15,
   "metadata": {},
   "outputs": [
    {
     "name": "stdout",
     "output_type": "stream",
     "text": [
      "\n",
      "2019-07-09 | 10:28:22     시노펙스(025320)  소폭 상승세 +4.45%2019-07-09 | 10:27:34     항셍지수(홍콩) 약보합권 출발, ▼31.96p(-0.11%), 28,299.73p [개장]2019-07-09 | 10:27:17     상해종합지수(중국) 약보합권 출발, ▼4.54p(-0.15%), 2,928.82p [개장]2019-07-09 | 10:25:08     투자주체별 매매동향 / 프로그램 매매동향2019-07-09 | 10:22:48     덕성(004830)  상승폭 확대 +6.42%2019-07-09 | 10:16:37     영인프런티어(036180)  상승폭 확대 +6.50%, 외국계 매수 유입2019-07-09 | 10:15:33     이트론(096040)  소폭 상승세 +3.98%2019-07-09 | 10:14:43     하이트진로홀딩스우, 일본 제품 불매 운동에 급등2019-07-09 | 10:11:35     깨끗한나라(004540)  상승폭 확대 +17.07%, 나흘째 상승2019-07-09 | 10:07:30     [IBK투자증권 데일리]\n",
      "\n",
      "\n",
      "\n",
      "\n"
     ]
    }
   ],
   "source": [
    "res=soup.select('#ticker')\n",
    "for r in res:\n",
    "    print(r.get_text(),end=\"\\n\")\n"
   ]
  },
  {
   "cell_type": "markdown",
   "metadata": {},
   "source": [
    "### 클래스 선택자\n",
    "* select('.클래스')"
   ]
  },
  {
   "cell_type": "code",
   "execution_count": 16,
   "metadata": {},
   "outputs": [
    {
     "name": "stdout",
     "output_type": "stream",
     "text": [
      "오늘의 시장점검\n",
      "국내·외 마감시황\n",
      "데이터뱅크\n",
      "뉴스·미디어\n",
      "이용안내·문의\n"
     ]
    }
   ],
   "source": [
    "res=soup.select('.t1')\n",
    "for r in res:\n",
    "    print(r.get_text(),end=\"\\n\")"
   ]
  },
  {
   "cell_type": "markdown",
   "metadata": {},
   "source": [
    "### 하위 선택자 \n",
    "* select('선택자 선택자') 공백으로 연결"
   ]
  },
  {
   "cell_type": "code",
   "execution_count": 17,
   "metadata": {},
   "outputs": [
    {
     "name": "stdout",
     "output_type": "stream",
     "text": [
      "코스피\n",
      "2065.16 ▲0.99(0.05%)\n",
      "코스닥\n",
      "665.09 ▼3.63(-0.54%)\n"
     ]
    }
   ],
   "source": [
    "res=soup.select('#article_1 .chart1 span')\n",
    "for r in res:\n",
    "    print(r.get_text(),end=\"\\n\")"
   ]
  },
  {
   "cell_type": "markdown",
   "metadata": {},
   "source": [
    "### 자식선택자\n",
    "* select('선택자 > 선택자> 선택자') 바로 직계 자식만 선택"
   ]
  },
  {
   "cell_type": "code",
   "execution_count": 20,
   "metadata": {},
   "outputs": [
    {
     "name": "stdout",
     "output_type": "stream",
     "text": [
      "코스피\n",
      "2065.16 ▲0.99(0.05%)\n",
      "코스닥\n",
      "665.09 ▼3.63(-0.54%)\n"
     ]
    }
   ],
   "source": [
    "res=soup.select('#article_1 > div > .chart1 > div > span')\n",
    "for r in res:\n",
    "    print(r.get_text(),end=\"\\n\")"
   ]
  },
  {
   "cell_type": "markdown",
   "metadata": {},
   "source": [
    "### and 선택자\n",
    "* select('선택자1,선택자2')여러선택자 잡기 "
   ]
  },
  {
   "cell_type": "code",
   "execution_count": 21,
   "metadata": {},
   "outputs": [
    {
     "name": "stdout",
     "output_type": "stream",
     "text": [
      "인포스탁\n",
      "무료 회원가입\n"
     ]
    }
   ],
   "source": [
    "res=soup.select('title,#free_button')\n",
    "for r in res:\n",
    "    print(r.get_text(),end=\"\\n\")"
   ]
  },
  {
   "cell_type": "markdown",
   "metadata": {},
   "source": [
    "### 속성선택자\n",
    "* select('태그[속성]')"
   ]
  },
  {
   "cell_type": "code",
   "execution_count": 24,
   "metadata": {},
   "outputs": [
    {
     "name": "stdout",
     "output_type": "stream",
     "text": [
      "개장전 점검사항\n",
      "장중 점검사항\n",
      "장마감 후 점검사항\n",
      "인포스탁 주식신문(조간)\n",
      "장중 특징주 및 특징섹터\n"
     ]
    }
   ],
   "source": [
    "res=soup.select('a[href]')\n",
    "res=res[:5]\n",
    "for r in res:\n",
    "    print(r.get_text(),end=\"\\n\")"
   ]
  },
  {
   "cell_type": "code",
   "execution_count": 26,
   "metadata": {},
   "outputs": [
    {
     "name": "stdout",
     "output_type": "stream",
     "text": [
      "장중 특징주 및 특징섹터\n",
      "장중 특징주 및 특징섹터\n"
     ]
    }
   ],
   "source": [
    "#속성 고정\n",
    "res=soup.select('a[href=\"/feat.asp\"]')\n",
    "res=res[:5]\n",
    "for r in res:\n",
    "    print(r.get_text(),end=\"\\n\")"
   ]
  },
  {
   "cell_type": "code",
   "execution_count": 28,
   "metadata": {},
   "outputs": [
    {
     "name": "stdout",
     "output_type": "stream",
     "text": [
      "광고게시판\n"
     ]
    }
   ],
   "source": [
    "#앞부분 고정\n",
    "res=soup.select('a[href^=\"a\"]')\n",
    "res=res[:5]\n",
    "for r in res:\n",
    "    print(r.get_text(),end=\"\\n\")"
   ]
  },
  {
   "cell_type": "code",
   "execution_count": 30,
   "metadata": {},
   "outputs": [
    {
     "name": "stdout",
     "output_type": "stream",
     "text": [
      "인포스탁 주식신문(조간)\n",
      "장중 특징주 및 특징섹터\n",
      "인포스탁 주식신문(석간)\n",
      "이슈&섹터 스케줄\n",
      "증시요약\n"
     ]
    }
   ],
   "source": [
    "#뒷부분 고정\n",
    "res=soup.select('a[href$=\"asp\"]')\n",
    "res=res[:5]\n",
    "for r in res:\n",
    "    print(r.get_text(),end=\"\\n\")"
   ]
  },
  {
   "cell_type": "code",
   "execution_count": 32,
   "metadata": {},
   "outputs": [
    {
     "name": "stdout",
     "output_type": "stream",
     "text": [
      "개장전 점검사항\n",
      "장중 점검사항\n",
      "장마감 후 점검사항\n",
      "장중 기술적분석 특징주\n",
      "외국계 순,매수도 상위 20종목\n"
     ]
    }
   ],
   "source": [
    "#중간 고정\n",
    "res=soup.select('a[href*=\"?gu\"]')\n",
    "res=res[:5]\n",
    "for r in res:\n",
    "    print(r.get_text(),end=\"\\n\")"
   ]
  },
  {
   "cell_type": "code",
   "execution_count": 42,
   "metadata": {},
   "outputs": [
    {
     "name": "stdout",
     "output_type": "stream",
     "text": [
      "2065.16 ▲0.99(0.05%)\n"
     ]
    }
   ],
   "source": [
    "#순번고정\n",
    "res=soup.select('#article_1 .chart1 span:nth-of-type(2)')\n",
    "res=res[:5]\n",
    "for r in res:\n",
    "    print(r.get_text(),end=\"\\n\")\n"
   ]
  },
  {
   "cell_type": "code",
   "execution_count": null,
   "metadata": {},
   "outputs": [],
   "source": []
  }
 ],
 "metadata": {
  "kernelspec": {
   "display_name": "Python 3",
   "language": "python",
   "name": "python3"
  },
  "language_info": {
   "codemirror_mode": {
    "name": "ipython",
    "version": 3
   },
   "file_extension": ".py",
   "mimetype": "text/x-python",
   "name": "python",
   "nbconvert_exporter": "python",
   "pygments_lexer": "ipython3",
   "version": "3.7.3"
  }
 },
 "nbformat": 4,
 "nbformat_minor": 2
}
