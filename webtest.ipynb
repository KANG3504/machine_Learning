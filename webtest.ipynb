{
 "cells": [
  {
   "cell_type": "markdown",
   "metadata": {},
   "source": [
    "### flask 를 이용한 웹 테스트\n",
    "* \n"
   ]
  },
  {
   "cell_type": "markdown",
   "metadata": {},
   "source": [
    "* flask 라이브러리 가져오기"
   ]
  },
  {
   "cell_type": "code",
   "execution_count": 387,
   "metadata": {},
   "outputs": [],
   "source": [
    "from flask import Flask,jsonify,request,render_template,redirect"
   ]
  },
  {
   "cell_type": "markdown",
   "metadata": {},
   "source": [
    "# 이건 건드리지마 h1\n",
    "## 이건 h2\n",
    "### 이건 h3\n"
   ]
  },
  {
   "cell_type": "markdown",
   "metadata": {},
   "source": [
    "* flask app 설정하기"
   ]
  },
  {
   "cell_type": "code",
   "execution_count": 388,
   "metadata": {},
   "outputs": [],
   "source": [
    "app=Flask(__name__)"
   ]
  },
  {
   "cell_type": "markdown",
   "metadata": {},
   "source": [
    "* sub url 설정및 해당 url에서의 동작 정의"
   ]
  },
  {
   "cell_type": "markdown",
   "metadata": {},
   "source": [
    "https://finance.naver.com/news/news_read.nhn?mode=mainnews&office_id=018&article_id=0004418993"
   ]
  },
  {
   "cell_type": "markdown",
   "metadata": {},
   "source": [
    "* dict를 json 형태로 바꿔 출력하려면 jsonify 를 사용\n",
    "* REST하게 변수를 획득하여 json 형태로 전송하는 예제"
   ]
  },
  {
   "cell_type": "code",
   "execution_count": 389,
   "metadata": {},
   "outputs": [],
   "source": [
    "@app.route('/loginget/')\n",
    "def logget():\n",
    "    return render_template('loginget.html')"
   ]
  },
  {
   "cell_type": "code",
   "execution_count": 390,
   "metadata": {},
   "outputs": [],
   "source": [
    "@app.route('/loginpost/')\n",
    "def logpost():\n",
    "    ht=render_template('header.html')\n",
    "    ht+=render_template('content.html')\n",
    "    ht+=render_template('footer.html')\n",
    "    return ht"
   ]
  },
  {
   "cell_type": "code",
   "execution_count": 391,
   "metadata": {},
   "outputs": [],
   "source": [
    "@app.route('/json/<uname>')\n",
    "def jout(uname='noname'):\n",
    "    jdict={'name':uname,'age':25}\n",
    "    jt='{name:\"홍길동\",age:\"25\"}'\n",
    "    return jsonify(jdict)"
   ]
  },
  {
   "cell_type": "markdown",
   "metadata": {},
   "source": [
    "### POST 방식을 활용한 변수 획득\n"
   ]
  },
  {
   "cell_type": "code",
   "execution_count": 392,
   "metadata": {},
   "outputs": [],
   "source": [
    "@app.route('/memberpost/',methods=['POST','GET'])\n",
    "def mempost():\n",
    "    if request.method=='POST':\n",
    "        uid=request.form['uid']\n",
    "        upw=request.form.get('pw')\n",
    "    else:\n",
    "        #정보를 안보내면 원래 로그인창으로 돌아가기\n",
    "        #return redirect('/loginpost/')\n",
    "        return 'GET 방식';\n",
    "        \n",
    "    if uid==None:\n",
    "        ht='<h1>유저 정보를 입력하세요</h1>'\n",
    "    elif uid=='master' and upw=='1234':\n",
    "        ht='<h1>'+uid+ '로그인 성공</h1>'\n",
    "    else:\n",
    "        ht='<h1>로그인 정보가 틀립니다.</h1>'\n",
    "    return ht\n",
    "    \n",
    "        "
   ]
  },
  {
   "cell_type": "markdown",
   "metadata": {},
   "source": [
    "### 정통 GET 방식을 활용한 변수 획득\n",
    "* http://localhost:8080/nhn/?uname=james&time=12"
   ]
  },
  {
   "cell_type": "code",
   "execution_count": 393,
   "metadata": {},
   "outputs": [],
   "source": [
    "@app.route('/memberget/',methods=['GET'])\n",
    "def memget():\n",
    "    uid=request.args.get('uid')\n",
    "    upw=request.args.get('pw')\n",
    "    if uid==None:\n",
    "        ht='<h1>유저 정보를 입력하세요</h1>'\n",
    "    elif uid=='master' and upw=='1234':\n",
    "        ht='<h1>'+uid+ '로그인 성공</h1>'\n",
    "    else:\n",
    "        ht='<h1>로그인 정보가 틀립니다.</h1>'\n",
    "    return ht\n",
    "        "
   ]
  },
  {
   "cell_type": "code",
   "execution_count": 394,
   "metadata": {},
   "outputs": [],
   "source": [
    "@app.route('/nhn/',methods=['GET'])\n",
    "def naver():\n",
    "    user=request.args.get('uname')\n",
    "    if user==None:\n",
    "        ht='<h1>유저가 없습니다</h1>'\n",
    "    else:\n",
    "        ht='<h1>유저는'+user+'입니다</h1>'\n",
    "    return ht"
   ]
  },
  {
   "cell_type": "markdown",
   "metadata": {},
   "source": [
    "* GET 방식으로 URI 정보를 기반한 변수 입력방식\n",
    "* 비어 있는 경우 초기화를 통하여 해결"
   ]
  },
  {
   "cell_type": "code",
   "execution_count": 395,
   "metadata": {},
   "outputs": [],
   "source": [
    "@app.route('/hi/')\n",
    "@app.route('/hi/<username>')\n",
    "@app.route('/hi/<username>/<passwd>')\n",
    "def hi(username='nobody',passwd='nopass'):\n",
    "    ht='<h1>안녕하세요 '+username+' 님</h1>'\n",
    "    ht+='<h1>패스워드는 '+passwd+'입니다.</h1>'\n",
    "    return "
   ]
  },
  {
   "cell_type": "markdown",
   "metadata": {},
   "source": [
    "* 기본 접속시 출력 문서"
   ]
  },
  {
   "cell_type": "code",
   "execution_count": 396,
   "metadata": {},
   "outputs": [],
   "source": [
    "@app.route('/')\n",
    "def hello():\n",
    "    htdoc=\"\"\"\n",
    "    <html>\n",
    "    \n",
    "    <h1>hello world</h1>\n",
    "    <h2>web test</h2>\n",
    "    </html>\n",
    "    \n",
    "    \"\"\"\n",
    "    return htdoc\n"
   ]
  },
  {
   "cell_type": "markdown",
   "metadata": {},
   "source": [
    "* 실행\n",
    "* 접속 주소 설정/ 접속 포트 설정"
   ]
  },
  {
   "cell_type": "code",
   "execution_count": null,
   "metadata": {},
   "outputs": [
    {
     "name": "stdout",
     "output_type": "stream",
     "text": [
      " * Serving Flask app \"__main__\" (lazy loading)\n",
      " * Environment: production\n",
      "   WARNING: Do not use the development server in a production environment.\n",
      "   Use a production WSGI server instead.\n",
      " * Debug mode: off\n"
     ]
    },
    {
     "name": "stderr",
     "output_type": "stream",
     "text": [
      " * Running on http://0.0.0.0:8080/ (Press CTRL+C to quit)\n",
      "127.0.0.1 - - [08/Jul/2019 15:33:42] \"GET /loginpost/ HTTP/1.1\" 200 -\n",
      "127.0.0.1 - - [08/Jul/2019 15:33:46] \"GET /loginpost/ HTTP/1.1\" 200 -\n",
      "127.0.0.1 - - [08/Jul/2019 15:33:46] \"GET /static/main.css HTTP/1.1\" 200 -\n",
      "127.0.0.1 - - [08/Jul/2019 15:33:46] \"GET /favicon.ico HTTP/1.1\" 404 -\n",
      "127.0.0.1 - - [08/Jul/2019 15:44:02] \"POST /memberpost/ HTTP/1.1\" 200 -\n",
      "127.0.0.1 - - [08/Jul/2019 15:44:02] \"GET /favicon.ico HTTP/1.1\" 404 -\n",
      "37.110.133.6 - - [08/Jul/2019 16:17:34] \"GET / HTTP/1.1\" 200 -\n"
     ]
    }
   ],
   "source": [
    "if __name__=='__main__':\n",
    "    app.run(host='0.0.0.0',port=8080)"
   ]
  },
  {
   "cell_type": "code",
   "execution_count": null,
   "metadata": {},
   "outputs": [],
   "source": []
  }
 ],
 "metadata": {
  "kernelspec": {
   "display_name": "Python 3",
   "language": "python",
   "name": "python3"
  },
  "language_info": {
   "codemirror_mode": {
    "name": "ipython",
    "version": 3
   },
   "file_extension": ".py",
   "mimetype": "text/x-python",
   "name": "python",
   "nbconvert_exporter": "python",
   "pygments_lexer": "ipython3",
   "version": "3.6.5"
  }
 },
 "nbformat": 4,
 "nbformat_minor": 2
}
